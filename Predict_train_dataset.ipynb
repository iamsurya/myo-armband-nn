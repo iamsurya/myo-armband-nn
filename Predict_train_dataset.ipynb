{
 "cells": [
  {
   "cell_type": "markdown",
   "metadata": {},
   "source": [
    "### Predict\n",
    "This example predicts the class for each sample given in the test dataset. We assume training is has already been completed using the training code, and the variables are located in the correct path.\n",
    "\n",
    "If you get errors when running this code, restart the kernel and clear the outputs, then run all cells. You may also need to delete the traning data in /data/tensorflow_sessions and re-train."
   ]
  },
  {
   "cell_type": "markdown",
   "metadata": {},
   "source": [
    "Import framework and modules"
   ]
  },
  {
   "cell_type": "code",
   "execution_count": 1,
   "metadata": {},
   "outputs": [],
   "source": [
    "import tensorflow as tf\n",
    "import numpy as np\n",
    "from sklearn.metrics import confusion_matrix\n",
    "from include.model import model\n",
    "from include.data import get_data_set"
   ]
  },
  {
   "cell_type": "markdown",
   "metadata": {},
   "source": [
    "Import (Create Model), Specify 6 classes to detect"
   ]
  },
  {
   "cell_type": "code",
   "execution_count": 2,
   "metadata": {},
   "outputs": [
    {
     "name": "stdout",
     "output_type": "stream",
     "text": [
      "WARNING:tensorflow:From C:\\Users\\s\\Dropbox\\Desktop\\pythonLearning\\myo-armband-nn\\include\\model.py:38: calling argmax (from tensorflow.python.ops.math_ops) with dimension is deprecated and will be removed in a future version.\n",
      "Instructions for updating:\n",
      "Use the `axis` argument instead\n"
     ]
    }
   ],
   "source": [
    "x, y, output, global_step, y_pred_cls = model(6)"
   ]
  },
  {
   "cell_type": "markdown",
   "metadata": {},
   "source": [
    "Load dataset"
   ]
  },
  {
   "cell_type": "code",
   "execution_count": 3,
   "metadata": {},
   "outputs": [],
   "source": [
    "test_x, test_y = get_data_set()\n",
    "labels = [\"Relax\", \"Ok\", \"Fist\", \"Like\", \"Rock\", \"Spock\"]"
   ]
  },
  {
   "cell_type": "markdown",
   "metadata": {},
   "source": [
    "Init Saver to save (checkpoint) training values (we're loading in this case to predict)"
   ]
  },
  {
   "cell_type": "code",
   "execution_count": 4,
   "metadata": {},
   "outputs": [
    {
     "name": "stdout",
     "output_type": "stream",
     "text": [
      "Trying to restore last checkpoint from:  ./data/tensorflow_sessions/myo_armband/-20000\n",
      "INFO:tensorflow:Restoring parameters from ./data/tensorflow_sessions/myo_armband/-20000\n",
      "Restored checkpoint from: ./data/tensorflow_sessions/myo_armband/-20000\n"
     ]
    }
   ],
   "source": [
    "saver = tf.train.Saver()\n",
    "_SAVE_PATH = \"./data/tensorflow_sessions/myo_armband/\"\n",
    "\n",
    "sess = tf.Session()\n",
    "\n",
    "try:\n",
    "    last_chk_path = tf.train.latest_checkpoint(checkpoint_dir=_SAVE_PATH)\n",
    "    print(\"Trying to restore last checkpoint from: \", last_chk_path)\n",
    "    saver.restore(sess, save_path=last_chk_path)\n",
    "    print(\"Restored checkpoint from:\", last_chk_path)\n",
    "except Exception as e:\n",
    "    print(\"Failed to restore checkpoint. Initializing variables instead.\")\n",
    "    print(e)\n",
    "    sess.run(tf.global_variables_initializer())"
   ]
  },
  {
   "cell_type": "markdown",
   "metadata": {},
   "source": [
    "Predict labels for entire dataset"
   ]
  },
  {
   "cell_type": "code",
   "execution_count": 5,
   "metadata": {},
   "outputs": [],
   "source": [
    "i = 0\n",
    "predicted_class = np.zeros(shape=len(test_x), dtype=np.int)\n",
    "while i < len(test_x):\n",
    "    j = min(i + 300, len(test_x))\n",
    "    batch_xs = test_x[i:j, :]\n",
    "    batch_ys = test_y[i:j, :]\n",
    "    predicted_class[i:j] = sess.run(y_pred_cls, feed_dict={x: batch_xs, y: batch_ys})\n",
    "    i = j"
   ]
  },
  {
   "cell_type": "markdown",
   "metadata": {},
   "source": [
    "Calculate Accuracy"
   ]
  },
  {
   "cell_type": "code",
   "execution_count": 6,
   "metadata": {},
   "outputs": [
    {
     "name": "stdout",
     "output_type": "stream",
     "text": [
      "Accuracy on Test-Set: 87.49% (17125 / 19573)\n"
     ]
    }
   ],
   "source": [
    "correct = (np.argmax(test_y, axis=1) == predicted_class)\n",
    "acc = correct.mean()*100\n",
    "correct_numbers = correct.sum()\n",
    "print(\"Accuracy on Test-Set: {0:.2f}% ({1} / {2})\".format(acc, correct_numbers, len(test_x)))"
   ]
  },
  {
   "cell_type": "markdown",
   "metadata": {},
   "source": [
    "Create and Display Confusion Matrix"
   ]
  },
  {
   "cell_type": "code",
   "execution_count": 7,
   "metadata": {
    "scrolled": false
   },
   "outputs": [
    {
     "name": "stdout",
     "output_type": "stream",
     "text": [
      "[2039   76   64   72   31  200] (0) Relax\n",
      "[  32 2230  266   22   20  144] (1) Ok\n",
      "[  36  246 4611   46   27   86] (2) Fist\n",
      "[  44   15   31 3802  170  143] (3) Like\n",
      "[  18   12   28  185 1594   43] (4) Rock\n",
      "[  75  103   76   91   46 2849] (5) Spock\n",
      " (0) (1) (2) (3) (4) (5)\n"
     ]
    }
   ],
   "source": [
    "cm = confusion_matrix(y_true=np.argmax(test_y, axis=1), y_pred=predicted_class)\n",
    "for i in range(6):\n",
    "    class_name = \"({}) {}\".format(i, labels[i])\n",
    "    print(cm[i, :], class_name)\n",
    "class_numbers = [\" ({0})\".format(i) for i in range(6)]\n",
    "print(\"\".join(class_numbers))"
   ]
  },
  {
   "cell_type": "markdown",
   "metadata": {},
   "source": [
    "Close tf session"
   ]
  },
  {
   "cell_type": "code",
   "execution_count": 8,
   "metadata": {},
   "outputs": [],
   "source": [
    "sess.close()"
   ]
  }
 ],
 "metadata": {
  "kernelspec": {
   "display_name": "Python 3",
   "language": "python",
   "name": "python3"
  },
  "language_info": {
   "codemirror_mode": {
    "name": "ipython",
    "version": 3
   },
   "file_extension": ".py",
   "mimetype": "text/x-python",
   "name": "python",
   "nbconvert_exporter": "python",
   "pygments_lexer": "ipython3",
   "version": "3.6.3"
  }
 },
 "nbformat": 4,
 "nbformat_minor": 2
}
